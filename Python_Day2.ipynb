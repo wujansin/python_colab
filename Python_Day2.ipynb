{
  "nbformat": 4,
  "nbformat_minor": 0,
  "metadata": {
    "colab": {
      "name": "Python Day2.ipynb",
      "provenance": [],
      "toc_visible": true,
      "authorship_tag": "ABX9TyN06MRPNAP/Ccmp8eyCM8DS",
      "include_colab_link": true
    },
    "kernelspec": {
      "name": "python3",
      "display_name": "Python 3"
    },
    "language_info": {
      "name": "python"
    }
  },
  "cells": [
    {
      "cell_type": "markdown",
      "metadata": {
        "id": "view-in-github",
        "colab_type": "text"
      },
      "source": [
        "<a href=\"https://colab.research.google.com/github/wujansin/python_colab/blob/main/Python_Day2.ipynb\" target=\"_parent\"><img src=\"https://colab.research.google.com/assets/colab-badge.svg\" alt=\"Open In Colab\"/></a>"
      ]
    },
    {
      "cell_type": "markdown",
      "source": [
        "# 複習\n",
        "## 4 basic data type\n",
        "* int\n",
        "* float\n",
        "* str\n",
        "* bool\n",
        "\n",
        "## 4 container data type\n",
        "* list\n",
        "* tuple\n",
        "* dict\n",
        "* set\n",
        "\n",
        "## 4 standard 語法\n",
        "* 條件式 if -->選擇性執行程式區塊\n",
        "* 迴圈  loop -->反覆執行程式區塊\n",
        "* 函式 function --> 定義好程式區塊，呼叫時候再執行\n",
        "* 例外處理 exception -->嘗試執行某個程式區塊，如果發生錯誤，就呼叫另一個程式區塊來處理錯誤\n",
        "\n",
        "\n"
      ],
      "metadata": {
        "id": "JytPq2HY_BSY"
      }
    },
    {
      "cell_type": "markdown",
      "source": [
        "# if statememts"
      ],
      "metadata": {
        "id": "GYIfnuBpVC1I"
      }
    },
    {
      "cell_type": "code",
      "source": [
        "a=2\n",
        "b=2\n",
        "if a>b:\n",
        "    print(\"a>b\")\n",
        "elif a<b:\n",
        "    print(\"a<b\")\n",
        "else:\n",
        "    print(\"a=b\")    \n"
      ],
      "metadata": {
        "colab": {
          "base_uri": "https://localhost:8080/"
        },
        "id": "C1Z-9IQHVOXx",
        "outputId": "5f004f67-1a14-4388-f179-5cd0a6fec5c3"
      },
      "execution_count": 2,
      "outputs": [
        {
          "output_type": "stream",
          "name": "stdout",
          "text": [
            "a=b\n"
          ]
        }
      ]
    }
  ]
}