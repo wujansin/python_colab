{
  "nbformat": 4,
  "nbformat_minor": 0,
  "metadata": {
    "colab": {
      "name": "Python Day2.ipynb",
      "provenance": [],
      "toc_visible": true,
      "authorship_tag": "ABX9TyOk5QWS/fdBVYteziHwNios",
      "include_colab_link": true
    },
    "kernelspec": {
      "name": "python3",
      "display_name": "Python 3"
    },
    "language_info": {
      "name": "python"
    }
  },
  "cells": [
    {
      "cell_type": "markdown",
      "metadata": {
        "id": "view-in-github",
        "colab_type": "text"
      },
      "source": [
        "<a href=\"https://colab.research.google.com/github/wujansin/python_colab/blob/main/Python_Day2.ipynb\" target=\"_parent\"><img src=\"https://colab.research.google.com/assets/colab-badge.svg\" alt=\"Open In Colab\"/></a>"
      ]
    },
    {
      "cell_type": "markdown",
      "source": [
        "# 複習\n",
        "## 4 basic data type\n",
        "* int\n",
        "* float\n",
        "* str\n",
        "* bool\n",
        "\n",
        "## 4 container data type\n",
        "* list\n",
        "* tuple\n",
        "* dict\n",
        "* set\n",
        "\n",
        "## 4 standard 語法\n",
        "* 條件式 if -->選擇性執行程式區塊\n",
        "* 迴圈  loop -->反覆執行程式區塊\n",
        "* 函式 function --> 定義好程式區塊，呼叫時候再執行\n",
        "* 例外處理 exception -->嘗試執行某個程式區塊，如果發生錯誤，就呼叫另一個程式區塊來處理錯誤\n",
        "\n",
        "\n"
      ],
      "metadata": {
        "id": "JytPq2HY_BSY"
      }
    },
    {
      "cell_type": "markdown",
      "source": [
        "# if statememts"
      ],
      "metadata": {
        "id": "GYIfnuBpVC1I"
      }
    },
    {
      "cell_type": "code",
      "source": [
        "a=2\n",
        "b=2\n",
        "if a>b:\n",
        "    print(\"a>b\")\n",
        "elif a<b:\n",
        "    print(\"a<b\")\n",
        "else:\n",
        "    print(\"a=b\")    \n"
      ],
      "metadata": {
        "colab": {
          "base_uri": "https://localhost:8080/"
        },
        "id": "C1Z-9IQHVOXx",
        "outputId": "5f004f67-1a14-4388-f179-5cd0a6fec5c3"
      },
      "execution_count": 2,
      "outputs": [
        {
          "output_type": "stream",
          "name": "stdout",
          "text": [
            "a=b\n"
          ]
        }
      ]
    },
    {
      "cell_type": "markdown",
      "source": [
        "## 練習\n",
        "$ bmi = \\frac{體重(kg)}{身高(m)} $\n",
        "\n",
        "|bmi|說明|\n",
        "|:-:|:-:|\n",
        "|bmi<18 |過輕|\n",
        "|18<bmi<24|健康|\n",
        "|bmi>24|過重|\n"
      ],
      "metadata": {
        "id": "KpBdi-27WWxH"
      }
    },
    {
      "cell_type": "code",
      "source": [
        "weight =48\n",
        "high =153\n",
        "bmi = weight/((high/100)**2)\n",
        "print(\"BMI=\", bmi)\n",
        "if bmi >24:\n",
        "    print(\"過重\")\n",
        "elif bmi>18 and bmi <=24:\n",
        "    print(\"標準\")\n",
        "else:\n",
        "    print(\"過輕\")        \n"
      ],
      "metadata": {
        "colab": {
          "base_uri": "https://localhost:8080/"
        },
        "id": "exsIqNTqXZld",
        "outputId": "5f06890a-15d9-4e94-8901-ec71335c35e6"
      },
      "execution_count": 11,
      "outputs": [
        {
          "output_type": "stream",
          "name": "stdout",
          "text": [
            "BMI= 20.504933999743688\n",
            "標準\n"
          ]
        }
      ]
    },
    {
      "cell_type": "code",
      "source": [
        "def health(w,h):\n",
        "    bmi = w/((h/100)**2)\n",
        "    print(\"BMI=\",bmi)\n",
        "    if bmi >24:\n",
        "        return \"過重\"\n",
        "    elif bmi>18 and bmi <=24:\n",
        "        return \"標準\"\n",
        "    else:\n",
        "        return \"過輕\"\n",
        "\n",
        "l=health(53,153)\n",
        "print(l)"
      ],
      "metadata": {
        "colab": {
          "base_uri": "https://localhost:8080/"
        },
        "id": "2bd74OfAZBgE",
        "outputId": "cde97c6c-aa90-46df-a423-018e7e889ecf"
      },
      "execution_count": 15,
      "outputs": [
        {
          "output_type": "stream",
          "name": "stdout",
          "text": [
            "BMI= 22.64086462471699\n",
            "標準\n"
          ]
        }
      ]
    },
    {
      "cell_type": "markdown",
      "source": [
        "# 迴圈 \n",
        "* for\n",
        "* while\n",
        "    * ex:畫金字塔"
      ],
      "metadata": {
        "id": "vmbh2vf_aFMM"
      }
    },
    {
      "cell_type": "code",
      "source": [
        "for i in range(5):\n",
        "    print(' '*(5-i)+ (i*2+1)*'*')"
      ],
      "metadata": {
        "colab": {
          "base_uri": "https://localhost:8080/"
        },
        "id": "bFPvdC49aKHG",
        "outputId": "c9eb1635-8f6e-4fec-9309-418daf91427a"
      },
      "execution_count": 20,
      "outputs": [
        {
          "output_type": "stream",
          "name": "stdout",
          "text": [
            "     *\n",
            "    ***\n",
            "   *****\n",
            "  *******\n",
            " *********\n"
          ]
        }
      ]
    },
    {
      "cell_type": "markdown",
      "source": [
        "# 函式\n",
        "* 畫金字塔 pyramid(h)"
      ],
      "metadata": {
        "id": "N2h8QsSobjSs"
      }
    },
    {
      "cell_type": "code",
      "source": [
        "def py"
      ],
      "metadata": {
        "id": "lEYYo56fbwKa"
      },
      "execution_count": null,
      "outputs": []
    }
  ]
}