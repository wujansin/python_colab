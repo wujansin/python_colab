{
  "nbformat": 4,
  "nbformat_minor": 0,
  "metadata": {
    "colab": {
      "name": "Python Day2.ipynb",
      "provenance": [],
      "toc_visible": true,
      "collapsed_sections": [],
      "authorship_tag": "ABX9TyOo+DYypfT1x2HSCeru26Rq",
      "include_colab_link": true
    },
    "kernelspec": {
      "name": "python3",
      "display_name": "Python 3"
    },
    "language_info": {
      "name": "python"
    }
  },
  "cells": [
    {
      "cell_type": "markdown",
      "metadata": {
        "id": "view-in-github",
        "colab_type": "text"
      },
      "source": [
        "<a href=\"https://colab.research.google.com/github/wujansin/python_colab/blob/main/Python_Day2.ipynb\" target=\"_parent\"><img src=\"https://colab.research.google.com/assets/colab-badge.svg\" alt=\"Open In Colab\"/></a>"
      ]
    },
    {
      "cell_type": "markdown",
      "source": [
        "# 複習\n",
        "## 4 basic data type\n",
        "* int\n",
        "* float\n",
        "* str\n",
        "* bool\n",
        "\n",
        "## 4 container data type\n",
        "* list\n",
        "* tuple\n",
        "* dict\n",
        "* set\n",
        "\n",
        "## 4 standard 語法\n",
        "* 條件式 if -->選擇性執行程式區塊\n",
        "* 迴圈  loop -->反覆執行程式區塊\n",
        "* 函式 function --> 定義好程式區塊，呼叫時候再執行\n",
        "* 例外處理 exception -->嘗試執行某個程式區塊，如果發生錯誤，就呼叫另一個程式區塊來處理錯誤\n",
        "\n",
        "\n"
      ],
      "metadata": {
        "id": "JytPq2HY_BSY"
      }
    },
    {
      "cell_type": "markdown",
      "source": [
        "# 條件式"
      ],
      "metadata": {
        "id": "GYIfnuBpVC1I"
      }
    },
    {
      "cell_type": "code",
      "source": [
        "a=2\n",
        "b=2\n",
        "if a>b:\n",
        "    print(\"a>b\")\n",
        "elif a<b:\n",
        "    print(\"a<b\")\n",
        "else:\n",
        "    print(\"a=b\")    \n"
      ],
      "metadata": {
        "colab": {
          "base_uri": "https://localhost:8080/"
        },
        "id": "C1Z-9IQHVOXx",
        "outputId": "5f004f67-1a14-4388-f179-5cd0a6fec5c3"
      },
      "execution_count": null,
      "outputs": [
        {
          "output_type": "stream",
          "name": "stdout",
          "text": [
            "a=b\n"
          ]
        }
      ]
    },
    {
      "cell_type": "markdown",
      "source": [
        "## 練習 (BMI計算)\n",
        "$ bmi = \\frac{體重(kg)}{身高(m)} $\n",
        "\n",
        "|bmi|說明|\n",
        "|:-:|:-:|\n",
        "|bmi<18 |過輕|\n",
        "|18<bmi<24|健康|\n",
        "|bmi>24|過重|\n"
      ],
      "metadata": {
        "id": "KpBdi-27WWxH"
      }
    },
    {
      "cell_type": "code",
      "source": [
        "weight =48\n",
        "high =153\n",
        "bmi = weight/((high/100)**2)\n",
        "print(\"BMI=\", bmi)\n",
        "if bmi >24:\n",
        "    print(\"過重\")\n",
        "elif bmi>18 and bmi <=24:\n",
        "    print(\"標準\")\n",
        "else:\n",
        "    print(\"過輕\")        \n"
      ],
      "metadata": {
        "colab": {
          "base_uri": "https://localhost:8080/"
        },
        "id": "exsIqNTqXZld",
        "outputId": "5f06890a-15d9-4e94-8901-ec71335c35e6"
      },
      "execution_count": null,
      "outputs": [
        {
          "output_type": "stream",
          "name": "stdout",
          "text": [
            "BMI= 20.504933999743688\n",
            "標準\n"
          ]
        }
      ]
    },
    {
      "cell_type": "markdown",
      "source": [
        "# 新增區段"
      ],
      "metadata": {
        "id": "CbvgMtmVxB8u"
      }
    },
    {
      "cell_type": "code",
      "source": [
        "def health(w,h):\n",
        "    bmi = w/((h/100)**2)\n",
        "    print(\"BMI=\",bmi)\n",
        "    if bmi >24:\n",
        "        return \"過重\"\n",
        "    elif bmi>18 and bmi <=24:\n",
        "        return \"標準\"\n",
        "    else:\n",
        "        return \"過輕\"\n",
        "\n",
        "l=health(53,153)\n",
        "print(l)"
      ],
      "metadata": {
        "colab": {
          "base_uri": "https://localhost:8080/"
        },
        "id": "2bd74OfAZBgE",
        "outputId": "cde97c6c-aa90-46df-a423-018e7e889ecf"
      },
      "execution_count": null,
      "outputs": [
        {
          "output_type": "stream",
          "name": "stdout",
          "text": [
            "BMI= 22.64086462471699\n",
            "標準\n"
          ]
        }
      ]
    },
    {
      "cell_type": "markdown",
      "source": [
        "# 迴圈 (Loop)\n",
        "* for\n",
        "    * 不只可以用range，還可以用容器型別\n",
        "* while\n",
        "    * ex:畫金字塔"
      ],
      "metadata": {
        "id": "vmbh2vf_aFMM"
      }
    },
    {
      "cell_type": "markdown",
      "source": [
        "## 關於for loop"
      ],
      "metadata": {
        "id": "SXL_nQ8oyQJR"
      }
    },
    {
      "cell_type": "code",
      "source": [
        "for i in range(5):\n",
        "    print(i)"
      ],
      "metadata": {
        "colab": {
          "base_uri": "https://localhost:8080/",
          "height": 132
        },
        "id": "k1KlN_WUyT63",
        "outputId": "e42b2a0e-e84a-464d-cedd-d460eb5f84ae"
      },
      "execution_count": 7,
      "outputs": [
        {
          "output_type": "error",
          "ename": "SyntaxError",
          "evalue": "ignored",
          "traceback": [
            "\u001b[0;36m  File \u001b[0;32m\"<ipython-input-7-29190b1c109d>\"\u001b[0;36m, line \u001b[0;32m2\u001b[0m\n\u001b[0;31m    print i\u001b[0m\n\u001b[0m          ^\u001b[0m\n\u001b[0;31mSyntaxError\u001b[0m\u001b[0;31m:\u001b[0m Missing parentheses in call to 'print'. Did you mean print(i)?\n"
          ]
        }
      ]
    },
    {
      "cell_type": "code",
      "source": [
        "x = list(\"abcdefg\")\n",
        "for i in x:\n",
        "    print (i)"
      ],
      "metadata": {
        "colab": {
          "base_uri": "https://localhost:8080/"
        },
        "id": "fm03JzihyYbK",
        "outputId": "29952074-d2e9-494b-f4c8-6e64e09e769f"
      },
      "execution_count": 6,
      "outputs": [
        {
          "output_type": "stream",
          "name": "stdout",
          "text": [
            "a\n",
            "b\n",
            "c\n",
            "d\n",
            "e\n",
            "f\n",
            "g\n"
          ]
        }
      ]
    },
    {
      "cell_type": "code",
      "source": [
        "y = {\"apple\":10, \"orange\":20, \"banana\":30}\n",
        "for i in y.items():\n",
        "    print(i)\n",
        "    \n",
        "for i in y:    \n",
        "    print(i, \"==>\", y[i])"
      ],
      "metadata": {
        "colab": {
          "base_uri": "https://localhost:8080/"
        },
        "id": "DdDWNDOHynYo",
        "outputId": "4ef5eec1-7567-44eb-a27a-4f1a42bb0661"
      },
      "execution_count": 10,
      "outputs": [
        {
          "output_type": "stream",
          "name": "stdout",
          "text": [
            "('apple', 10)\n",
            "('orange', 20)\n",
            "('banana', 30)\n",
            "apple ==> 10\n",
            "orange ==> 20\n",
            "banana ==> 30\n"
          ]
        }
      ]
    },
    {
      "cell_type": "markdown",
      "source": [
        "# 新增區段"
      ],
      "metadata": {
        "id": "4KnswfquzXWx"
      }
    },
    {
      "cell_type": "code",
      "source": [
        "for i in range(5):\n",
        "    print(' '*(5-i)+ (i*2+1)*'*')"
      ],
      "metadata": {
        "colab": {
          "base_uri": "https://localhost:8080/"
        },
        "id": "bFPvdC49aKHG",
        "outputId": "6f391fee-dabb-4ecf-a507-5c80975cf7c1"
      },
      "execution_count": 3,
      "outputs": [
        {
          "output_type": "stream",
          "name": "stdout",
          "text": [
            "     *\n",
            "    ***\n",
            "   *****\n",
            "  *******\n",
            " *********\n"
          ]
        }
      ]
    },
    {
      "cell_type": "markdown",
      "source": [
        "# 函式 (function)\n",
        "* 畫金字塔 pyramid(h)"
      ],
      "metadata": {
        "id": "N2h8QsSobjSs"
      }
    },
    {
      "cell_type": "code",
      "source": [
        "def pyramid(h):\n",
        "    for i in range(h):\n",
        "        print(' '*(h-i)+ (i*2+1)*'*') \n",
        "\n",
        "pyramid(10)"
      ],
      "metadata": {
        "colab": {
          "base_uri": "https://localhost:8080/"
        },
        "id": "lEYYo56fbwKa",
        "outputId": "9f591a53-5fb2-490e-bc59-14b8b6cd00ea"
      },
      "execution_count": 2,
      "outputs": [
        {
          "output_type": "stream",
          "name": "stdout",
          "text": [
            "          *\n",
            "         ***\n",
            "        *****\n",
            "       *******\n",
            "      *********\n",
            "     ***********\n",
            "    *************\n",
            "   ***************\n",
            "  *****************\n",
            " *******************\n"
          ]
        }
      ]
    },
    {
      "cell_type": "markdown",
      "source": [
        "# 關於程式區塊"
      ],
      "metadata": {
        "id": "HbAuqMmHxUkb"
      }
    },
    {
      "cell_type": "markdown",
      "source": [
        "# 例外處理 (Exception Handling)\n"
      ],
      "metadata": {
        "id": "Y1Vt5o-Twuiq"
      }
    },
    {
      "cell_type": "markdown",
      "source": [
        "### f-string"
      ],
      "metadata": {
        "id": "pj8tjwMSzkt4"
      }
    },
    {
      "cell_type": "code",
      "source": [
        "x=1\n",
        "y=2\n",
        "print(x, \"allan\",y)\n"
      ],
      "metadata": {
        "colab": {
          "base_uri": "https://localhost:8080/"
        },
        "id": "TmC8qKO1zo4j",
        "outputId": "bfc1944f-3ff3-4744-c28a-699302f0823f"
      },
      "execution_count": 12,
      "outputs": [
        {
          "output_type": "stream",
          "name": "stdout",
          "text": [
            "1 allan 2\n"
          ]
        }
      ]
    },
    {
      "cell_type": "code",
      "source": [
        "print(\"x={x},y={y}\")\n",
        "print(f\"x={x},y={y}\")"
      ],
      "metadata": {
        "colab": {
          "base_uri": "https://localhost:8080/"
        },
        "id": "JqtUDvBJzzBL",
        "outputId": "799e9846-2880-49fd-9547-99413e5bd320"
      },
      "execution_count": 17,
      "outputs": [
        {
          "output_type": "stream",
          "name": "stdout",
          "text": [
            "x={x},y={y}\n",
            "x=1,y=2\n"
          ]
        }
      ]
    },
    {
      "cell_type": "markdown",
      "source": [
        "## Exception"
      ],
      "metadata": {
        "id": "cbcYzcTWoI8x"
      }
    },
    {
      "cell_type": "markdown",
      "source": [
        ""
      ],
      "metadata": {
        "id": "oAE8q32uwHDX"
      }
    },
    {
      "cell_type": "code",
      "source": [
        "def add(x,y):\n",
        "    print(f\"{x}+{y}={x+y}\")\n",
        "\n",
        "def sub(x,y):\n",
        "    print(f\"{x}-{y}={x-y}\")\n",
        "\n",
        "def mul(x,y):\n",
        "    print(f\"{x}*{y}={x*y}\")\n",
        "\n",
        "def div(x,y):\n",
        "    print(f\"{x}/{y}={x/y}\")\n"
      ],
      "metadata": {
        "id": "iUyWuOjW0ftr"
      },
      "execution_count": 3,
      "outputs": []
    },
    {
      "cell_type": "code",
      "source": [
        "funcs =[add,sub,div,mul]\n",
        "x=2\n",
        "y=0\n",
        "for func in funcs:\n",
        "    try:\n",
        "        func(x,y)\n",
        "    except Exception as e:\n",
        "        print(e.args)        \n"
      ],
      "metadata": {
        "colab": {
          "base_uri": "https://localhost:8080/"
        },
        "id": "MLmfkqa_lRt8",
        "outputId": "7108bd72-0382-4610-e62c-14af21dd99b6"
      },
      "execution_count": 6,
      "outputs": [
        {
          "output_type": "stream",
          "name": "stdout",
          "text": [
            "2+0=2\n",
            "2-0=2\n",
            "('division by zero',)\n",
            "2*0=0\n"
          ]
        }
      ]
    },
    {
      "cell_type": "markdown",
      "source": [
        "* Kaggle 資料科學 網站\n",
        "* glassdoor 查薪資"
      ],
      "metadata": {
        "id": "tqbpHpdvwIHf"
      }
    },
    {
      "cell_type": "markdown",
      "source": [
        "# 資料分析簡介\n",
        "* Numpy ==> Numerical python==>科學運算用\n",
        "* MatPlotLib ==>Matrix Plot Lib ==>繪圖基礎套件\n",
        "* Pandas ==> Panel Data ==>資料分析基礎套件\n",
        "\n",
        "* 套件載入慣用法:\n",
        "```python\n",
        "import numpy as np\n",
        "import matplotlib.pyplot as plt\n",
        "import pandas as pd\n",
        "```\n",
        "\n"
      ],
      "metadata": {
        "id": "LaX2HxkxyD3B"
      }
    },
    {
      "cell_type": "markdown",
      "source": [
        "## Numpy\n",
        "* ndarray --> N-Dim Array\n",
        "* ufunc --> Universeal Functions\n"
      ],
      "metadata": {
        "id": "sBkBJvTSpx_P"
      }
    },
    {
      "cell_type": "code",
      "source": [
        "import numpy as np\n",
        "x=[1,2,3]\n",
        "y=[3,4,5]\n"
      ],
      "metadata": {
        "id": "Nb4M-DjRqm-0"
      },
      "execution_count": null,
      "outputs": []
    },
    {
      "cell_type": "code",
      "source": [
        "x+y"
      ],
      "metadata": {
        "colab": {
          "base_uri": "https://localhost:8080/"
        },
        "id": "vPFD0EUSq27I",
        "outputId": "234c6120-fbcc-40a5-fe36-9bdfc289b6a2"
      },
      "execution_count": 8,
      "outputs": [
        {
          "output_type": "execute_result",
          "data": {
            "text/plain": [
              "[1, 2, 3, 4, 5, 6]"
            ]
          },
          "metadata": {},
          "execution_count": 8
        }
      ]
    },
    {
      "cell_type": "code",
      "source": [
        "2*x"
      ],
      "metadata": {
        "colab": {
          "base_uri": "https://localhost:8080/"
        },
        "id": "aqYucotlq49C",
        "outputId": "fda0d606-5af7-4228-8938-718bd429833b"
      },
      "execution_count": 9,
      "outputs": [
        {
          "output_type": "execute_result",
          "data": {
            "text/plain": [
              "[1, 2, 3, 1, 2, 3]"
            ]
          },
          "metadata": {},
          "execution_count": 9
        }
      ]
    },
    {
      "cell_type": "code",
      "source": [
        "list(zip(x,y))"
      ],
      "metadata": {
        "colab": {
          "base_uri": "https://localhost:8080/"
        },
        "id": "3SCQAKymrHwJ",
        "outputId": "0ec7519f-92d6-44bc-d9b6-aa7d7ac4a20c"
      },
      "execution_count": 11,
      "outputs": [
        {
          "output_type": "execute_result",
          "data": {
            "text/plain": [
              "[(1, 4), (2, 5), (3, 6)]"
            ]
          },
          "metadata": {},
          "execution_count": 11
        }
      ]
    },
    {
      "cell_type": "code",
      "source": [
        "z=[]\n",
        "for i,j in zip(x,y):\n",
        "    z.append(i+j)\n",
        "\n",
        "z"
      ],
      "metadata": {
        "colab": {
          "base_uri": "https://localhost:8080/"
        },
        "id": "c98087kIq-c9",
        "outputId": "66017fa1-96cb-45a4-d59b-0f00cd304c8c"
      },
      "execution_count": 20,
      "outputs": [
        {
          "output_type": "execute_result",
          "data": {
            "text/plain": [
              "[5, 7, 9]"
            ]
          },
          "metadata": {},
          "execution_count": 20
        }
      ]
    },
    {
      "cell_type": "code",
      "source": [
        "x1 = np.array(x)\n",
        "y1 = np.array(y)\n",
        "\n",
        "2*y1"
      ],
      "metadata": {
        "colab": {
          "base_uri": "https://localhost:8080/"
        },
        "id": "Z53L_YrfsK9_",
        "outputId": "fbe440e7-6ee8-44c8-bfce-898a4a99a641"
      },
      "execution_count": 26,
      "outputs": [
        {
          "output_type": "execute_result",
          "data": {
            "text/plain": [
              "array([ 8, 10, 12])"
            ]
          },
          "metadata": {},
          "execution_count": 26
        }
      ]
    },
    {
      "cell_type": "code",
      "source": [
        "x1+y1"
      ],
      "metadata": {
        "colab": {
          "base_uri": "https://localhost:8080/"
        },
        "id": "9cfdEzMbsq9y",
        "outputId": "76101c23-901c-4049-d839-efb112e6763d"
      },
      "execution_count": 27,
      "outputs": [
        {
          "output_type": "execute_result",
          "data": {
            "text/plain": [
              "array([5, 7, 9])"
            ]
          },
          "metadata": {},
          "execution_count": 27
        }
      ]
    },
    {
      "cell_type": "markdown",
      "source": [
        "## What is ufunc"
      ],
      "metadata": {
        "id": "c1USug-btHQ2"
      }
    },
    {
      "cell_type": "code",
      "source": [
        "import math\n",
        "math.sin(math.pi/2)"
      ],
      "metadata": {
        "colab": {
          "base_uri": "https://localhost:8080/"
        },
        "id": "R7H90VLUtL7Z",
        "outputId": "f33fd078-bb3f-41d5-e6c3-a0d4777c90b1"
      },
      "execution_count": 28,
      "outputs": [
        {
          "output_type": "execute_result",
          "data": {
            "text/plain": [
              "1.0"
            ]
          },
          "metadata": {},
          "execution_count": 28
        }
      ]
    },
    {
      "cell_type": "code",
      "source": [
        "np.sin(np.pi/2)"
      ],
      "metadata": {
        "colab": {
          "base_uri": "https://localhost:8080/"
        },
        "id": "xOo3ynXVtUsl",
        "outputId": "d8bbcbc8-07eb-428f-9a7f-59f558d1dab8"
      },
      "execution_count": 35,
      "outputs": [
        {
          "output_type": "execute_result",
          "data": {
            "text/plain": [
              "1.0"
            ]
          },
          "metadata": {},
          "execution_count": 35
        }
      ]
    },
    {
      "cell_type": "code",
      "source": [
        "np.sin(x)"
      ],
      "metadata": {
        "colab": {
          "base_uri": "https://localhost:8080/"
        },
        "id": "C_K6CIVktxtl",
        "outputId": "2d25fc01-8ace-4eb6-d7df-7a40f59f259e"
      },
      "execution_count": 36,
      "outputs": [
        {
          "output_type": "execute_result",
          "data": {
            "text/plain": [
              "array([0.84147098, 0.90929743, 0.14112001])"
            ]
          },
          "metadata": {},
          "execution_count": 36
        }
      ]
    },
    {
      "cell_type": "markdown",
      "source": [
        "### 練習題:\n",
        "請將下列所有資料取平方根(np.sqrt)再乘以10\n"
      ],
      "metadata": {
        "id": "fEmHywKBu6Q4"
      }
    },
    {
      "cell_type": "code",
      "source": [
        "score = [20,30,36,50,60,50,10,40,70,100]\n",
        "npscore = np.array(score)\n",
        "for i in npscore:\n",
        "    print(math.sqrt(i)*10)"
      ],
      "metadata": {
        "colab": {
          "base_uri": "https://localhost:8080/"
        },
        "id": "BzW8i8IYvIrs",
        "outputId": "a1d0f871-6d19-4adf-b4d8-be27e6317e5e"
      },
      "execution_count": 43,
      "outputs": [
        {
          "output_type": "stream",
          "name": "stdout",
          "text": [
            "44.721359549995796\n",
            "54.772255750516614\n",
            "60.0\n",
            "70.71067811865476\n",
            "77.45966692414834\n",
            "70.71067811865476\n",
            "31.622776601683796\n",
            "63.24555320336759\n",
            "83.66600265340756\n",
            "100.0\n"
          ]
        }
      ]
    },
    {
      "cell_type": "code",
      "source": [
        "new_score = np.sqrt(npscore)*10\n",
        "new_score"
      ],
      "metadata": {
        "colab": {
          "base_uri": "https://localhost:8080/"
        },
        "id": "IpCdpR67xA9n",
        "outputId": "57d06c0f-00fa-405d-b148-9106113b9802"
      },
      "execution_count": 46,
      "outputs": [
        {
          "output_type": "execute_result",
          "data": {
            "text/plain": [
              "array([ 44.72135955,  54.77225575,  60.        ,  70.71067812,\n",
              "        77.45966692,  70.71067812,  31.6227766 ,  63.2455532 ,\n",
              "        83.66600265, 100.        ])"
            ]
          },
          "metadata": {},
          "execution_count": 46
        }
      ]
    },
    {
      "cell_type": "markdown",
      "source": [
        "## ndarray 的index 與 slicing\n"
      ],
      "metadata": {
        "id": "SCDrSH5Gx2OK"
      }
    },
    {
      "cell_type": "code",
      "source": [
        "x= np.arange(25)\n",
        "x"
      ],
      "metadata": {
        "colab": {
          "base_uri": "https://localhost:8080/"
        },
        "id": "zqMsDCpnyAVA",
        "outputId": "b07cdf86-3920-4d54-9c52-5879486921a4"
      },
      "execution_count": 48,
      "outputs": [
        {
          "output_type": "execute_result",
          "data": {
            "text/plain": [
              "array([ 0,  1,  2,  3,  4,  5,  6,  7,  8,  9, 10, 11, 12, 13, 14, 15, 16,\n",
              "       17, 18, 19, 20, 21, 22, 23, 24])"
            ]
          },
          "metadata": {},
          "execution_count": 48
        }
      ]
    },
    {
      "cell_type": "code",
      "source": [
        "x.dtype"
      ],
      "metadata": {
        "colab": {
          "base_uri": "https://localhost:8080/"
        },
        "id": "Emp12At2yTbL",
        "outputId": "844c6d72-5a14-4f03-adcd-c5e17c9e8aa7"
      },
      "execution_count": 50,
      "outputs": [
        {
          "output_type": "execute_result",
          "data": {
            "text/plain": [
              "dtype('int64')"
            ]
          },
          "metadata": {},
          "execution_count": 50
        }
      ]
    },
    {
      "cell_type": "code",
      "source": [
        "x.shape"
      ],
      "metadata": {
        "colab": {
          "base_uri": "https://localhost:8080/"
        },
        "id": "QlbvH1axyf_Q",
        "outputId": "66f865b2-2ca2-4ec3-99c6-a469c0f87964"
      },
      "execution_count": 51,
      "outputs": [
        {
          "output_type": "execute_result",
          "data": {
            "text/plain": [
              "(25,)"
            ]
          },
          "metadata": {},
          "execution_count": 51
        }
      ]
    },
    {
      "cell_type": "code",
      "source": [
        "x= x.reshape(5,5)\n",
        "x"
      ],
      "metadata": {
        "colab": {
          "base_uri": "https://localhost:8080/"
        },
        "id": "89H3hV80ymy9",
        "outputId": "71a3b709-fde8-49f6-b807-1067814750b3"
      },
      "execution_count": 55,
      "outputs": [
        {
          "output_type": "execute_result",
          "data": {
            "text/plain": [
              "array([[ 0,  1,  2,  3,  4],\n",
              "       [ 5,  6,  7,  8,  9],\n",
              "       [10, 11, 12, 13, 14],\n",
              "       [15, 16, 17, 18, 19],\n",
              "       [20, 21, 22, 23, 24]])"
            ]
          },
          "metadata": {},
          "execution_count": 55
        }
      ]
    },
    {
      "cell_type": "code",
      "source": [
        "x.shape"
      ],
      "metadata": {
        "colab": {
          "base_uri": "https://localhost:8080/"
        },
        "id": "OMhgtRfOy3Qf",
        "outputId": "85014d38-752f-42f0-e78b-32671ff71f4a"
      },
      "execution_count": 56,
      "outputs": [
        {
          "output_type": "execute_result",
          "data": {
            "text/plain": [
              "(5, 5)"
            ]
          },
          "metadata": {},
          "execution_count": 56
        }
      ]
    },
    {
      "cell_type": "code",
      "source": [
        "y = [[ 0,  1,  2,  3,  4],\n",
        "    [ 5,  6,  7,  8,  9],\n",
        "    [10, 11, 12, 13, 14],\n",
        "    [15, 16, 17, 18, 19],\n",
        "    [20, 21, 22, 23, 24]]\n",
        "type(y)       "
      ],
      "metadata": {
        "colab": {
          "base_uri": "https://localhost:8080/"
        },
        "id": "InWYrMt-zWNL",
        "outputId": "91ad293f-e1c9-48a7-ca38-07ea74e58e29"
      },
      "execution_count": 57,
      "outputs": [
        {
          "output_type": "execute_result",
          "data": {
            "text/plain": [
              "list"
            ]
          },
          "metadata": {},
          "execution_count": 57
        }
      ]
    },
    {
      "cell_type": "code",
      "source": [
        "y[2]"
      ],
      "metadata": {
        "colab": {
          "base_uri": "https://localhost:8080/"
        },
        "id": "3vGHvPrk0YpO",
        "outputId": "192059e6-9af6-45f5-fb31-f688fa648ee3"
      },
      "execution_count": 58,
      "outputs": [
        {
          "output_type": "execute_result",
          "data": {
            "text/plain": [
              "[10, 11, 12, 13, 14]"
            ]
          },
          "metadata": {},
          "execution_count": 58
        }
      ]
    },
    {
      "cell_type": "code",
      "source": [
        "y[2][1:4]"
      ],
      "metadata": {
        "colab": {
          "base_uri": "https://localhost:8080/"
        },
        "id": "q-6Y8syo0qNo",
        "outputId": "69a28ce5-d141-46e9-c9d8-7d46d3299667"
      },
      "execution_count": 59,
      "outputs": [
        {
          "output_type": "execute_result",
          "data": {
            "text/plain": [
              "[11, 12, 13]"
            ]
          },
          "metadata": {},
          "execution_count": 59
        }
      ]
    },
    {
      "cell_type": "code",
      "source": [
        "x[2][1:4]"
      ],
      "metadata": {
        "colab": {
          "base_uri": "https://localhost:8080/"
        },
        "id": "6cEPbymz04ID",
        "outputId": "58e0622b-472b-4d82-cb75-20a82febd28d"
      },
      "execution_count": 60,
      "outputs": [
        {
          "output_type": "execute_result",
          "data": {
            "text/plain": [
              "array([11, 12, 13])"
            ]
          },
          "metadata": {},
          "execution_count": 60
        }
      ]
    },
    {
      "cell_type": "code",
      "source": [
        "x[2,1:4]"
      ],
      "metadata": {
        "colab": {
          "base_uri": "https://localhost:8080/"
        },
        "id": "wu1PBTOA1AFC",
        "outputId": "e76725a5-8a1a-43bf-9bbc-191e3ba9ba5e"
      },
      "execution_count": 62,
      "outputs": [
        {
          "output_type": "execute_result",
          "data": {
            "text/plain": [
              "array([11, 12, 13])"
            ]
          },
          "metadata": {},
          "execution_count": 62
        }
      ]
    },
    {
      "cell_type": "code",
      "source": [
        "x[1:3, 1:3]"
      ],
      "metadata": {
        "colab": {
          "base_uri": "https://localhost:8080/"
        },
        "id": "M-ASqmSS1Kui",
        "outputId": "b90fb50d-7b04-426f-9979-da1ffa06a68c"
      },
      "execution_count": 64,
      "outputs": [
        {
          "output_type": "execute_result",
          "data": {
            "text/plain": [
              "array([[ 6,  7],\n",
              "       [11, 12]])"
            ]
          },
          "metadata": {},
          "execution_count": 64
        }
      ]
    },
    {
      "cell_type": "code",
      "source": [
        "x[0,:]  #取第0列"
      ],
      "metadata": {
        "colab": {
          "base_uri": "https://localhost:8080/"
        },
        "id": "M84Ledq91Y5W",
        "outputId": "cd7b6362-1d17-4c64-e409-4e75b6dc4b93"
      },
      "execution_count": 65,
      "outputs": [
        {
          "output_type": "execute_result",
          "data": {
            "text/plain": [
              "array([0, 1, 2, 3, 4])"
            ]
          },
          "metadata": {},
          "execution_count": 65
        }
      ]
    },
    {
      "cell_type": "code",
      "source": [
        "x[:,0]   #取第0欄"
      ],
      "metadata": {
        "colab": {
          "base_uri": "https://localhost:8080/"
        },
        "id": "vyP94ENU1eEV",
        "outputId": "b21a3b7c-cfa4-4240-acf3-33c6f05b6082"
      },
      "execution_count": 66,
      "outputs": [
        {
          "output_type": "execute_result",
          "data": {
            "text/plain": [
              "array([ 0,  5, 10, 15, 20])"
            ]
          },
          "metadata": {},
          "execution_count": 66
        }
      ]
    },
    {
      "cell_type": "markdown",
      "source": [
        "## Matplotlib\n",
        "* pyplot\n",
        "* artist\n"
      ],
      "metadata": {
        "id": "YMrLv3Hc2qLG"
      }
    },
    {
      "cell_type": "code",
      "source": [
        ""
      ],
      "metadata": {
        "id": "P6YkjyFm21ad"
      },
      "execution_count": null,
      "outputs": []
    }
  ]
}